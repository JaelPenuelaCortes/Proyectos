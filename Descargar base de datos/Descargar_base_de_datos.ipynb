{
  "nbformat": 4,
  "nbformat_minor": 0,
  "metadata": {
    "colab": {
      "provenance": []
    },
    "kernelspec": {
      "name": "python3",
      "display_name": "Python 3"
    },
    "language_info": {
      "name": "python"
    }
  },
  "cells": [
    {
      "cell_type": "code",
      "execution_count": 1,
      "metadata": {
        "colab": {
          "base_uri": "https://localhost:8080/"
        },
        "id": "6XGtVGLvNaB6",
        "outputId": "760a605b-fab3-4c40-c4ce-690d19279b7f"
      },
      "outputs": [
        {
          "output_type": "stream",
          "name": "stdout",
          "text": [
            "Descargando lote 1...\n",
            "Descargando lote 2...\n",
            "No hay más datos para descargar.\n",
            "Descarga completa. Archivo guardado como datos_completos.csv.\n"
          ]
        }
      ],
      "source": [
        "import pandas as pd\n",
        "import requests\n",
        "\n",
        "# URL base del dataset\n",
        "base_url = \"https://www.datos.gov.co/resource/nudc-7mev.csv\"\n",
        "\n",
        "# Tamaño del lote\n",
        "limit = 100000\n",
        "offset = 0\n",
        "lotes = []\n",
        "lote_num = 1\n",
        "\n",
        "while True:\n",
        "    print(f\"Descargando lote {lote_num}...\")\n",
        "\n",
        "    # URL con paginación\n",
        "    url = f\"{base_url}?$limit={limit}&$offset={offset}\"\n",
        "\n",
        "    # Leer el lote como DataFrame\n",
        "    df = pd.read_csv(url)\n",
        "\n",
        "    # Si el lote está vacío, terminamos\n",
        "    if df.empty:\n",
        "        print(\"No hay más datos para descargar.\")\n",
        "        break\n",
        "\n",
        "    # Guardar lote en la lista\n",
        "    lotes.append(df)\n",
        "    lote_num += 1\n",
        "    offset += limit\n",
        "\n",
        "# Combinar todos los lotes\n",
        "df_total = pd.concat(lotes, ignore_index=True)\n",
        "\n",
        "# Guardar en un archivo local\n",
        "df_total.to_csv(\"datos_completos.csv\", index=False)\n",
        "print(\"Descarga completa. Archivo guardado como datos_completos.csv.\")\n"
      ]
    }
  ]
}